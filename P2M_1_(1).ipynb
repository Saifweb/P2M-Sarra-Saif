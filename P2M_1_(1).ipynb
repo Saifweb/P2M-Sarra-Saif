{
  "nbformat": 4,
  "nbformat_minor": 0,
  "metadata": {
    "colab": {
      "provenance": [],
      "collapsed_sections": [
        "4yur6bDIHjhR",
        "pCbyNhTmsl6y"
      ],
      "toc_visible": true,
      "include_colab_link": true
    },
    "kernelspec": {
      "name": "python3",
      "display_name": "Python 3"
    },
    "language_info": {
      "name": "python"
    }
  },
  "cells": [
    {
      "cell_type": "markdown",
      "metadata": {
        "id": "view-in-github",
        "colab_type": "text"
      },
      "source": [
        "<a href=\"https://colab.research.google.com/github/Saifweb/P2M-Sarra-Saif/blob/main/P2M_1_(1).ipynb\" target=\"_parent\"><img src=\"https://colab.research.google.com/assets/colab-badge.svg\" alt=\"Open In Colab\"/></a>"
      ]
    },
    {
      "cell_type": "markdown",
      "source": [
        "#Importation"
      ],
      "metadata": {
        "id": "4yur6bDIHjhR"
      }
    },
    {
      "cell_type": "code",
      "execution_count": 1,
      "metadata": {
        "colab": {
          "base_uri": "https://localhost:8080/"
        },
        "id": "Je9TqbQGFMVz",
        "outputId": "d9eaa0fc-b8cc-4566-da60-ea60982d1095"
      },
      "outputs": [
        {
          "output_type": "stream",
          "name": "stdout",
          "text": [
            "Looking in indexes: https://pypi.org/simple, https://us-python.pkg.dev/colab-wheels/public/simple/\n",
            "Collecting keras_preprocessing\n",
            "  Downloading Keras_Preprocessing-1.1.2-py2.py3-none-any.whl (42 kB)\n",
            "\u001b[2K     \u001b[90m━━━━━━━━━━━━━━━━━━━━━━━━━━━━━━━━━━━━━━━━\u001b[0m \u001b[32m42.6/42.6 kB\u001b[0m \u001b[31m1.1 MB/s\u001b[0m eta \u001b[36m0:00:00\u001b[0m\n",
            "\u001b[?25hRequirement already satisfied: numpy>=1.9.1 in /usr/local/lib/python3.10/dist-packages (from keras_preprocessing) (1.22.4)\n",
            "Requirement already satisfied: six>=1.9.0 in /usr/local/lib/python3.10/dist-packages (from keras_preprocessing) (1.16.0)\n",
            "Installing collected packages: keras_preprocessing\n",
            "Successfully installed keras_preprocessing-1.1.2\n"
          ]
        }
      ],
      "source": [
        "!pip install keras_preprocessing"
      ]
    },
    {
      "cell_type": "code",
      "source": [
        "import pandas as pd\n",
        "import matplotlib.pyplot as plt\n",
        "import plotly \n",
        "import plotly.graph_objects as go\n",
        "import numpy as np\n",
        "from keras.layers import LSTM\n",
        "from keras.layers import Dense\n",
        "import tensorflow as tf\n",
        "from tensorflow import keras\n",
        "from tensorflow.keras import layers\n",
        "from tensorflow.keras.callbacks import ModelCheckpoint\n",
        "from tensorflow.keras.losses import MeanSquaredError\n",
        "from tensorflow.keras.metrics import RootMeanSquaredError\n",
        "from keras.optimizers import Adam\n",
        "from sklearn.metrics import mean_absolute_error\n",
        "from keras.layers import LSTM, Dropout, Dense\n",
        "from sklearn.preprocessing import MinMaxScaler\n",
        "import itertools\n",
        "from keras.callbacks import ModelCheckpoint, EarlyStopping\n",
        "from IPython.display import display\n",
        "from keras.models import Sequential\n",
        "import tensorflow as tf\n",
        "from copy import copy"
      ],
      "metadata": {
        "id": "XVE631QnFQtD"
      },
      "execution_count": 2,
      "outputs": []
    },
    {
      "cell_type": "markdown",
      "source": [
        "#data visualisation"
      ],
      "metadata": {
        "id": "pCbyNhTmsl6y"
      }
    },
    {
      "cell_type": "code",
      "source": [
        "def plot_sequence_lengths(data, title, ax):\n",
        "    # Calculate the lengths of sequences\n",
        "    sequence_lengths = data['sequence'].apply(lambda x: len(x))\n",
        "\n",
        "    # Get unique sequence lengths and their frequencies\n",
        "    unique_lengths, frequencies = sequence_lengths.value_counts().sort_index().index, sequence_lengths.value_counts().sort_index().values\n",
        "\n",
        "    # Plot the sequence lengths\n",
        "    ax.plot(unique_lengths, frequencies, marker='o', linestyle='-')\n",
        "    ax.set_xlabel('Sequence Length')\n",
        "    ax.set_ylabel('Frequency')\n",
        "    ax.set_title(title)"
      ],
      "metadata": {
        "id": "-HZ8nhH50p9c"
      },
      "execution_count": 8,
      "outputs": []
    },
    {
      "cell_type": "code",
      "source": [
        "hello = pd.read_csv(\"Hello.csv\", index_col='TIME')\n",
        "hello1 = transform_dataset(hello,\"hello\")\n",
        "please = pd.read_csv(\"please.csv\", index_col='TIME')\n",
        "please1 = transform_dataset(please,\"please\")\n",
        "thankYou = pd.read_csv(\"ThankYou.csv\", index_col='TIME')\n",
        "thankYou1= transform_dataset(thankYou,\"thankyou\")\n",
        "YouWelcome = pd.read_csv(\"YouWelcome.csv\", index_col='TIME')\n",
        "youWelcome1 = transform_dataset(YouWelcome,\"welcome\")"
      ],
      "metadata": {
        "id": "cpNVnoXxssL5"
      },
      "execution_count": null,
      "outputs": []
    },
    {
      "cell_type": "code",
      "source": [
        "# Create a row with four subplots\n",
        "fig, axs = plt.subplots(1, 4, figsize=(20, 6))\n",
        "\n",
        "# Plot for thankYou1\n",
        "plot_sequence_lengths(thankYou1, 'Distribution of Sequence Lengths - thankYou1', axs[0])\n",
        "\n",
        "# Plot for youWelcome1\n",
        "plot_sequence_lengths(youWelcome1, 'Distribution of Sequence Lengths - youWelcome1', axs[1])\n",
        "\n",
        "# Plot for hello1\n",
        "plot_sequence_lengths(hello1, 'Distribution of Sequence Lengths - hello1', axs[2])\n",
        "\n",
        "# Plot for please1\n",
        "plot_sequence_lengths(please1, 'Distribution of Sequence Lengths - please1', axs[3])\n",
        "\n",
        "# Adjust the spacing between subplots\n",
        "plt.tight_layout()\n",
        "\n",
        "# Display the plots in the same row\n",
        "plt.show()"
      ],
      "metadata": {
        "colab": {
          "base_uri": "https://localhost:8080/",
          "height": 302
        },
        "id": "rGN2r5cStG3J",
        "outputId": "bc2a395d-c630-43f0-d496-c7a458c02b7e"
      },
      "execution_count": null,
      "outputs": [
        {
          "output_type": "display_data",
          "data": {
            "text/plain": [
              "<Figure size 2000x600 with 4 Axes>"
            ],
            "image/png": "[encoded data removed]"
          },
          "metadata": {}
        }
      ]
    },
    {
      "cell_type": "markdown",
      "source": [
        "#Transform Data"
      ],
      "metadata": {
        "id": "bF59_G7dHqoB"
      }
    },
    {
      "cell_type": "code",
      "source": [
        "def transform_dataset(df,label):\n",
        "  dataset = pd.DataFrame(columns=['sequence', 'label'])\n",
        "  seq=[]\n",
        "  for index, row in df.iterrows():\n",
        "    L=list(row)\n",
        "    if (L==[0.0, 0.0, 0.0, 0.0, 0.0, 0.0]):\n",
        "      if(seq!=[]):\n",
        "        dataset = dataset.append({'sequence': seq, 'label': label}, ignore_index=True)\n",
        "      seq=[]\n",
        "    else :\n",
        "      seq.append(L)\n",
        "  return(dataset)"
      ],
      "metadata": {
        "id": "Ifk59Qu3FQzt"
      },
      "execution_count": 3,
      "outputs": []
    },
    {
      "cell_type": "code",
      "source": [
        "def padding(l,maxlen):\n",
        "  l1=copy(l)\n",
        "  for i in range(maxlen-len(l)):\n",
        "    l1.append([0.0] *len(l[0]))\n",
        "  return l1"
      ],
      "metadata": {
        "id": "iO-Mnnw3iF3m"
      },
      "execution_count": 4,
      "outputs": []
    },
    {
      "cell_type": "code",
      "source": [
        "def CleanData(filename, word, max_length):\n",
        "    dataset = pd.read_csv(filename, index_col='TIME')\n",
        "    dataset.dropna(inplace=True)\n",
        "    dataset.reset_index(drop=True, inplace=True)\n",
        "    # Remove columns that we don't need\n",
        "    dataset = dataset.loc[:, 'CH1':'CH6']\n",
        "    \n",
        "    data = transform_dataset(dataset, word)\n",
        "    \n",
        "    # Filter rows based on sequence length condition\n",
        "    data_filtered = data[\n",
        "        (data['sequence'].apply(lambda x: len(x)) >= 5) &\n",
        "        (data['sequence'].apply(lambda x: len(x)) <= 9)\n",
        "    ]\n",
        "    \n",
        "    # Truncate sequences with length > max_length\n",
        "    data_filtered['sequence'] = data_filtered['sequence'].apply(lambda x: x[:max_length] if len(x) > max_length else x)\n",
        "    \n",
        "    # Add padding if sequence < max_length\n",
        "    data_filtered['sequence'] = data_filtered['sequence'].apply(lambda x: padding(x, max_length) if len(x) < max_length else x)\n",
        "    \n",
        "    return data_filtered"
      ],
      "metadata": {
        "id": "46ZSCf2Li7P8"
      },
      "execution_count": 79,
      "outputs": []
    },
    {
      "cell_type": "code",
      "source": [
        "#Clean Data:\n",
        "data_please=CleanData('please.csv','please',7)\n",
        "data_thank=CleanData('ThankYou.csv','thankyou',7)\n",
        "data_welcome=CleanData('YouWelcome.csv','welcome',7)\n",
        "data_hello=CleanData('Hello.csv','hello',7)"
      ],
      "metadata": {
        "id": "UfZiMuVUmgcC"
      },
      "execution_count": null,
      "outputs": []
    },
    {
      "cell_type": "code",
      "source": [
        "# Create a row with four subplots\n",
        "fig, axs = plt.subplots(1, 4, figsize=(20, 6))\n",
        "\n",
        "# Plot for thankYou1\n",
        "plot_sequence_lengths(data_thank, 'Distribution of Sequence Lengths - thankYou1', axs[0])\n",
        "\n",
        "# Plot for youWelcome1\n",
        "plot_sequence_lengths(data_welcome, 'Distribution of Sequence Lengths - youWelcome1', axs[1])\n",
        "\n",
        "# Plot for hello1\n",
        "plot_sequence_lengths(data_hello, 'Distribution of Sequence Lengths - hello1', axs[2])\n",
        "\n",
        "# Plot for please1\n",
        "plot_sequence_lengths(data_please, 'Distribution of Sequence Lengths - please1', axs[3])\n",
        "\n",
        "# Adjust the spacing between subplots\n",
        "plt.tight_layout()\n",
        "\n",
        "# Display the plots in the same row\n",
        "plt.show()"
      ],
      "metadata": {
        "colab": {
          "base_uri": "https://localhost:8080/",
          "height": 347
        },
        "id": "5fYnoFOi04v0",
        "outputId": "57570009-1437-4ea0-9307-4cb33e447771"
      },
      "execution_count": 81,
      "outputs": [
        {
          "output_type": "display_data",
          "data": {
            "text/plain": [
              "<Figure size 2000x600 with 4 Axes>"
            ],
            "image/png": "[encoded data removed]"
          },
          "metadata": {}
        }
      ]
    },
    {
      "cell_type": "code",
      "source": [
        "#check length for each one\n",
        "print('for please',len(data_please))\n",
        "print('for hello',len(data_hello))\n",
        "print('for thankyou',len(data_thank))\n",
        "print('for youwelcome',len(data_welcome))"
      ],
      "metadata": {
        "colab": {
          "base_uri": "https://localhost:8080/"
        },
        "id": "FWFxdomvrTl-",
        "outputId": "cf835ae1-893a-48bf-8b15-500201053811"
      },
      "execution_count": 82,
      "outputs": [
        {
          "output_type": "stream",
          "name": "stdout",
          "text": [
            "for please 48\n",
            "for hello 68\n",
            "for thankyou 68\n",
            "for youwelcome 72\n"
          ]
        }
      ]
    },
    {
      "cell_type": "markdown",
      "source": [
        "##Combine All datasets into one dataset"
      ],
      "metadata": {
        "id": "-kvuWInkUMcu"
      }
    },
    {
      "cell_type": "code",
      "source": [
        "# Concatenate the datasets\n",
        "data = pd.concat([data_please, data_hello,data_thank,data_welcome], ignore_index=True)"
      ],
      "metadata": {
        "id": "zmTSuI67UQ09"
      },
      "execution_count": 83,
      "outputs": []
    },
    {
      "cell_type": "code",
      "source": [
        "len(data)"
      ],
      "metadata": {
        "colab": {
          "base_uri": "https://localhost:8080/"
        },
        "id": "8-zoT_N_UgEv",
        "outputId": "add46ffc-bfb8-4183-e072-9af8774f5b6c"
      },
      "execution_count": 84,
      "outputs": [
        {
          "output_type": "execute_result",
          "data": {
            "text/plain": [
              "256"
            ]
          },
          "metadata": {},
          "execution_count": 84
        }
      ]
    },
    {
      "cell_type": "code",
      "source": [
        "data.label.value_counts()"
      ],
      "metadata": {
        "colab": {
          "base_uri": "https://localhost:8080/"
        },
        "id": "qsE2n9atUtQO",
        "outputId": "46ea57cb-1db2-427b-e27e-f5ff0758cf62"
      },
      "execution_count": 85,
      "outputs": [
        {
          "output_type": "execute_result",
          "data": {
            "text/plain": [
              "welcome     72\n",
              "hello       68\n",
              "thankyou    68\n",
              "please      48\n",
              "Name: label, dtype: int64"
            ]
          },
          "metadata": {},
          "execution_count": 85
        }
      ]
    },
    {
      "cell_type": "code",
      "source": [
        "dataset = data.sample(frac=1).reset_index(drop=True)\n",
        "dataset.head(15)"
      ],
      "metadata": {
        "id": "BG0fNJF9TB-E",
        "outputId": "8946fa93-0167-48cb-d658-0bec294fcc6a",
        "colab": {
          "base_uri": "https://localhost:8080/",
          "height": 519
        }
      },
      "execution_count": 86,
      "outputs": [
        {
          "output_type": "execute_result",
          "data": {
            "text/plain": [
              "                                             sequence     label\n",
              "0   [[-3.13, -7.75, 3.21, -0.24, -0.07, 0.01], [-3...   welcome\n",
              "1   [[2.25, -8.81, 1.78, 0.38, -1.59, -0.84], [5.3...     hello\n",
              "2   [[2.93, -1.21, -10.76, -0.1, 0.03, -0.22], [4....  thankyou\n",
              "3   [[-1.88, -7.49, 4.33, -0.32, 0.11, 0.03], [-1....   welcome\n",
              "4   [[-2.16, -7.32, 5.54, -0.19, 0.21, 0.12], [-3....   welcome\n",
              "5   [[-2.49, -7.13, 5.06, -0.27, 0.04, -0.06], [-2...   welcome\n",
              "6   [[-2.54, -8.33, 3.52, -0.06, 0.13, -0.02], [-2...   welcome\n",
              "7   [[4.63, -7.27, 5.05, 0.37, 0.29, 0.14], [7.38,...     hello\n",
              "8   [[1.95, -9.13, 3.61, 0.09, 0.56, 0.14], [4.05,...     hello\n",
              "9   [[-1.68, -8.21, 4.48, -0.07, 0.11, -0.06], [-2...   welcome\n",
              "10  [[-3.0, -6.92, 4.8, -0.11, -0.06, 0.04], [-3.7...   welcome\n",
              "11  [[8.3, -0.94, -0.32, 0.53, -0.32, -0.41], [11....    please\n",
              "12  [[-2.47, -6.96, 5.7, -0.13, 0.15, -0.01], [-2....   welcome\n",
              "13  [[5.29, -0.97, -9.02, 0.04, 0.11, -0.06], [5.7...  thankyou\n",
              "14  [[3.12, -8.34, 4.45, -0.67, -0.86, 0.22], [3.8...     hello"
            ],
            "text/html": [
              "\n",
              "  <div id=\"df-9e5898db-9063-496a-88a2-28d7c05cc9cc\">\n",
              "    <div class=\"colab-df-container\">\n",
              "      <div>\n",
              "<style scoped>\n",
              "    .dataframe tbody tr th:only-of-type {\n",
              "        vertical-align: middle;\n",
              "    }\n",
              "\n",
              "    .dataframe tbody tr th {\n",
              "        vertical-align: top;\n",
              "    }\n",
              "\n",
              "    .dataframe thead th {\n",
              "        text-align: right;\n",
              "    }\n",
              "</style>\n",
              "<table border=\"1\" class=\"dataframe\">\n",
              "  <thead>\n",
              "    <tr style=\"text-align: right;\">\n",
              "      <th></th>\n",
              "      <th>sequence</th>\n",
              "      <th>label</th>\n",
              "    </tr>\n",
              "  </thead>\n",
              "  <tbody>\n",
              "    <tr>\n",
              "      <th>0</th>\n",
              "      <td>[[-3.13, -7.75, 3.21, -0.24, -0.07, 0.01], [-3...</td>\n",
              "      <td>welcome</td>\n",
              "    </tr>\n",
              "    <tr>\n",
              "      <th>1</th>\n",
              "      <td>[[2.25, -8.81, 1.78, 0.38, -1.59, -0.84], [5.3...</td>\n",
              "      <td>hello</td>\n",
              "    </tr>\n",
              "    <tr>\n",
              "      <th>2</th>\n",
              "      <td>[[2.93, -1.21, -10.76, -0.1, 0.03, -0.22], [4....</td>\n",
              "      <td>thankyou</td>\n",
              "    </tr>\n",
              "    <tr>\n",
              "      <th>3</th>\n",
              "      <td>[[-1.88, -7.49, 4.33, -0.32, 0.11, 0.03], [-1....</td>\n",
              "      <td>welcome</td>\n",
              "    </tr>\n",
              "    <tr>\n",
              "      <th>4</th>\n",
              "      <td>[[-2.16, -7.32, 5.54, -0.19, 0.21, 0.12], [-3....</td>\n",
              "      <td>welcome</td>\n",
              "    </tr>\n",
              "    <tr>\n",
              "      <th>5</th>\n",
              "      <td>[[-2.49, -7.13, 5.06, -0.27, 0.04, -0.06], [-2...</td>\n",
              "      <td>welcome</td>\n",
              "    </tr>\n",
              "    <tr>\n",
              "      <th>6</th>\n",
              "      <td>[[-2.54, -8.33, 3.52, -0.06, 0.13, -0.02], [-2...</td>\n",
              "      <td>welcome</td>\n",
              "    </tr>\n",
              "    <tr>\n",
              "      <th>7</th>\n",
              "      <td>[[4.63, -7.27, 5.05, 0.37, 0.29, 0.14], [7.38,...</td>\n",
              "      <td>hello</td>\n",
              "    </tr>\n",
              "    <tr>\n",
              "      <th>8</th>\n",
              "      <td>[[1.95, -9.13, 3.61, 0.09, 0.56, 0.14], [4.05,...</td>\n",
              "      <td>hello</td>\n",
              "    </tr>\n",
              "    <tr>\n",
              "      <th>9</th>\n",
              "      <td>[[-1.68, -8.21, 4.48, -0.07, 0.11, -0.06], [-2...</td>\n",
              "      <td>welcome</td>\n",
              "    </tr>\n",
              "    <tr>\n",
              "      <th>10</th>\n",
              "      <td>[[-3.0, -6.92, 4.8, -0.11, -0.06, 0.04], [-3.7...</td>\n",
              "      <td>welcome</td>\n",
              "    </tr>\n",
              "    <tr>\n",
              "      <th>11</th>\n",
              "      <td>[[8.3, -0.94, -0.32, 0.53, -0.32, -0.41], [11....</td>\n",
              "      <td>please</td>\n",
              "    </tr>\n",
              "    <tr>\n",
              "      <th>12</th>\n",
              "      <td>[[-2.47, -6.96, 5.7, -0.13, 0.15, -0.01], [-2....</td>\n",
              "      <td>welcome</td>\n",
              "    </tr>\n",
              "    <tr>\n",
              "      <th>13</th>\n",
              "      <td>[[5.29, -0.97, -9.02, 0.04, 0.11, -0.06], [5.7...</td>\n",
              "      <td>thankyou</td>\n",
              "    </tr>\n",
              "    <tr>\n",
              "      <th>14</th>\n",
              "      <td>[[3.12, -8.34, 4.45, -0.67, -0.86, 0.22], [3.8...</td>\n",
              "      <td>hello</td>\n",
              "    </tr>\n",
              "  </tbody>\n",
              "</table>\n",
              "</div>\n",
              "      <button class=\"colab-df-convert\" onclick=\"convertToInteractive('df-9e5898db-9063-496a-88a2-28d7c05cc9cc')\"\n",
              "              title=\"Convert this dataframe to an interactive table.\"\n",
              "              style=\"display:none;\">\n",
              "        \n",
              "  <svg xmlns=\"http://www.w3.org/2000/svg\" height=\"24px\"viewBox=\"0 0 24 24\"\n",
              "       width=\"24px\">\n",
              "    <path d=\"M0 0h24v24H0V0z\" fill=\"none\"/>\n",
              "    <path d=\"M18.56 5.44l.94 2.06.94-2.06 2.06-.94-2.06-.94-.94-2.06-.94 2.06-2.06.94zm-11 1L8.5 8.5l.94-2.06 2.06-.94-2.06-.94L8.5 2.5l-.94 2.06-2.06.94zm10 10l.94 2.06.94-2.06 2.06-.94-2.06-.94-.94-2.06-.94 2.06-2.06.94z\"/><path d=\"M17.41 7.96l-1.37-1.37c-.4-.4-.92-.59-1.43-.59-.52 0-1.04.2-1.43.59L10.3 9.45l-7.72 7.72c-.78.78-.78 2.05 0 2.83L4 21.41c.39.39.9.59 1.41.59.51 0 1.02-.2 1.41-.59l7.78-7.78 2.81-2.81c.8-.78.8-2.07 0-2.86zM5.41 20L4 18.59l7.72-7.72 1.47 1.35L5.41 20z\"/>\n",
              "  </svg>\n",
              "      </button>\n",
              "      \n",
              "  <style>\n",
              "    .colab-df-container {\n",
              "      display:flex;\n",
              "      flex-wrap:wrap;\n",
              "      gap: 12px;\n",
              "    }\n",
              "\n",
              "    .colab-df-convert {\n",
              "      background-color: #E8F0FE;\n",
              "      border: none;\n",
              "      border-radius: 50%;\n",
              "      cursor: pointer;\n",
              "      display: none;\n",
              "      fill: #1967D2;\n",
              "      height: 32px;\n",
              "      padding: 0 0 0 0;\n",
              "      width: 32px;\n",
              "    }\n",
              "\n",
              "    .colab-df-convert:hover {\n",
              "      background-color: #E2EBFA;\n",
              "      box-shadow: 0px 1px 2px rgba(60, 64, 67, 0.3), 0px 1px 3px 1px rgba(60, 64, 67, 0.15);\n",
              "      fill: #174EA6;\n",
              "    }\n",
              "\n",
              "    [theme=dark] .colab-df-convert {\n",
              "      background-color: #3B4455;\n",
              "      fill: #D2E3FC;\n",
              "    }\n",
              "\n",
              "    [theme=dark] .colab-df-convert:hover {\n",
              "      background-color: #434B5C;\n",
              "      box-shadow: 0px 1px 3px 1px rgba(0, 0, 0, 0.15);\n",
              "      filter: drop-shadow(0px 1px 2px rgba(0, 0, 0, 0.3));\n",
              "      fill: #FFFFFF;\n",
              "    }\n",
              "  </style>\n",
              "\n",
              "      <script>\n",
              "        const buttonEl =\n",
              "          document.querySelector('#df-9e5898db-9063-496a-88a2-28d7c05cc9cc button.colab-df-convert');\n",
              "        buttonEl.style.display =\n",
              "          google.colab.kernel.accessAllowed ? 'block' : 'none';\n",
              "\n",
              "        async function convertToInteractive(key) {\n",
              "          const element = document.querySelector('#df-9e5898db-9063-496a-88a2-28d7c05cc9cc');\n",
              "          const dataTable =\n",
              "            await google.colab.kernel.invokeFunction('convertToInteractive',\n",
              "                                                     [key], {});\n",
              "          if (!dataTable) return;\n",
              "\n",
              "          const docLinkHtml = 'Like what you see? Visit the ' +\n",
              "            '<a target=\"_blank\" href=https://colab.research.google.com/notebooks/data_table.ipynb>data table notebook</a>'\n",
              "            + ' to learn more about interactive tables.';\n",
              "          element.innerHTML = '';\n",
              "          dataTable['output_type'] = 'display_data';\n",
              "          await google.colab.output.renderOutput(dataTable, element);\n",
              "          const docLink = document.createElement('div');\n",
              "          docLink.innerHTML = docLinkHtml;\n",
              "          element.appendChild(docLink);\n",
              "        }\n",
              "      </script>\n",
              "    </div>\n",
              "  </div>\n",
              "  "
            ]
          },
          "metadata": {},
          "execution_count": 86
        }
      ]
    },
    {
      "cell_type": "code",
      "source": [
        "len(dataset)"
      ],
      "metadata": {
        "id": "p29ZEnsRWZuj",
        "outputId": "26ca1b53-b860-46e4-a125-30d19f07adda",
        "colab": {
          "base_uri": "https://localhost:8080/"
        }
      },
      "execution_count": 87,
      "outputs": [
        {
          "output_type": "execute_result",
          "data": {
            "text/plain": [
              "256"
            ]
          },
          "metadata": {},
          "execution_count": 87
        }
      ]
    },
    {
      "cell_type": "code",
      "source": [
        "dataset['sequence'][0]"
      ],
      "metadata": {
        "colab": {
          "base_uri": "https://localhost:8080/"
        },
        "id": "mRQKrln97s50",
        "outputId": "37f3f2c1-d74d-48b2-f078-db119fe94304"
      },
      "execution_count": 88,
      "outputs": [
        {
          "output_type": "execute_result",
          "data": {
            "text/plain": [
              "[[-3.13, -7.75, 3.21, -0.24, -0.07, 0.01],\n",
              " [-3.44, -8.09, 4.57, -0.29, 0.36, 0.05],\n",
              " [-2.72, -7.51, 4.05, 0.18, 0.18, 0.28],\n",
              " [-1.1, -8.15, 3.79, -0.49, 0.43, 1.21],\n",
              " [3.63, -4.55, 6.48, -1.31, 0.14, 0.94],\n",
              " [5.98, 1.03, 9.07, -0.77, 0.31, 0.22],\n",
              " [7.08, -0.66, 9.46, 0.31, 0.14, 0.1]]"
            ]
          },
          "metadata": {},
          "execution_count": 88
        }
      ]
    },
    {
      "cell_type": "code",
      "source": [
        "from sklearn.model_selection import train_test_split\n",
        "# train_test split\n",
        "train,test= train_test_split(dataset, random_state=19, test_size=0.2)"
      ],
      "metadata": {
        "id": "-lFr1FQ1XFS9"
      },
      "execution_count": 89,
      "outputs": []
    },
    {
      "cell_type": "code",
      "source": [
        "test"
      ],
      "metadata": {
        "id": "AIM4bH2XX5L5",
        "outputId": "6920ce5f-3954-4648-84dd-7ac1cfc2fbb6",
        "colab": {
          "base_uri": "https://localhost:8080/",
          "height": 1000
        }
      },
      "execution_count": 90,
      "outputs": [
        {
          "output_type": "execute_result",
          "data": {
            "text/plain": [
              "                                              sequence     label\n",
              "246  [[-2.74, -8.42, 3.17, -0.03, -0.08, -0.04], [-...   welcome\n",
              "115  [[11.43, 0.63, 0.58, -0.11, 1.53, -0.11], [8.8...    please\n",
              "164  [[9.17, -1.03, 1.64, 0.07, -0.01, -0.03], [10....    please\n",
              "205  [[3.03, -8.45, 3.91, 0.23, -0.26, 0.13], [6.1,...     hello\n",
              "202  [[-1.37, -8.25, 4.36, 0.37, -0.28, -0.04], [-1...   welcome\n",
              "233  [[5.35, -7.36, 4.27, 0.17, 0.18, 0.05], [5.47,...     hello\n",
              "119  [[-1.11, -7.54, 5.69, -0.11, 0.09, -0.01], [-1...   welcome\n",
              "96   [[4.36, -0.35, -9.28, -0.09, 0.05, -0.06], [3....  thankyou\n",
              "222  [[-2.36, -8.25, 4.25, -0.18, 0.7, 0.05], [-2.2...   welcome\n",
              "72   [[4.57, -1.52, -9.98, -0.67, 0.02, -0.28], [6....  thankyou\n",
              "37   [[7.93, -1.39, 0.96, 0.78, 0.06, 0.21], [12.7,...    please\n",
              "178  [[12.47, 1.07, -0.05, 0.27, 0.28, -0.35], [8.8...    please\n",
              "155  [[0.0, -52.61, 16.55, -1.3, -3.27, 0.0], [0.0,...    please\n",
              "117  [[10.34, -2.04, 1.18, 0.22, -0.05, 0.34], [13....    please\n",
              "145  [[9.7, -2.77, 1.2, 0.11, 0.11, 0.02], [9.83, -...    please\n",
              "210  [[-2.78, -6.96, 4.99, -0.19, -0.01, 0.06], [-2...   welcome\n",
              "239  [[-1.46, -7.81, 5.3, -0.12, 0.11, -0.01], [-4....   welcome\n",
              "218  [[1.36, 1.09, -10.52, -0.11, 0.88, -0.04], [0....  thankyou\n",
              "62   [[2.25, 0.02, -9.96, -0.56, -0.14, 0.02], [3.7...  thankyou\n",
              "1    [[2.25, -8.81, 1.78, 0.38, -1.59, -0.84], [5.3...     hello\n",
              "82   [[3.91, -8.46, 3.55, 0.57, 0.58, -0.06], [5.26...     hello\n",
              "186  [[-0.69, -8.36, 3.66, 0.04, 0.16, 0.03], [-1.1...   welcome\n",
              "158  [[-0.46, -7.6, 5.44, 0.01, 0.23, -0.06], [-1.6...   welcome\n",
              "20   [[2.94, -8.12, 3.78, 0.22, -0.56, -0.02], [2.6...     hello\n",
              "237  [[3.98, -7.88, 3.08, 0.07, 0.36, -0.03], [3.46...     hello\n",
              "235  [[9.49, -3.36, -1.13, 0.25, -0.38, -0.11], [9....    please\n",
              "163  [[-3.49, -7.13, 4.46, 0.02, -0.02, -0.03], [-3...   welcome\n",
              "129  [[9.17, -3.64, 2.68, -0.15, -0.2, 0.02], [9.2,...    please\n",
              "176  [[2.26, -8.03, 3.71, 0.74, 0.32, -0.04], [3.79...     hello\n",
              "105  [[3.43, -8.19, 2.41, 0.29, -0.96, 0.01], [6.45...     hello\n",
              "13   [[5.29, -0.97, -9.02, 0.04, 0.11, -0.06], [5.7...  thankyou\n",
              "189  [[8.78, -7.64, 4.44, 0.54, 0.49, -0.8], [5.66,...     hello\n",
              "132  [[9.91, -0.81, 1.09, -0.15, 0.25, 0.01], [10.0...    please\n",
              "31   [[5.0, -8.39, 3.27, -0.4, 0.56, -0.18], [4.15,...     hello\n",
              "16   [[2.55, -1.5, -10.12, -0.73, -0.9, -0.17], [6....  thankyou\n",
              "121  [[-1.13, -7.43, 5.84, 0.02, 0.48, 0.03], [-1.2...   welcome\n",
              "221  [[11.19, -0.14, -0.57, -0.03, 1.02, 1.8], [10....    please\n",
              "195  [[9.95, -1.96, 2.04, -0.28, 0.23, 0.08], [8.89...    please\n",
              "64   [[1.77, -8.62, 3.79, 0.05, 0.33, 0.23], [2.49,...     hello\n",
              "34   [[3.79, -2.04, -10.65, 0.33, 1.28, -0.17], [3....  thankyou\n",
              "87   [[9.72, -1.8, 2.25, -0.21, 0.44, -0.18], [9.38...    please\n",
              "65   [[3.21, -7.67, 4.93, 0.02, 0.0, -0.03], [2.43,...     hello\n",
              "199  [[-3.03, -7.89, 3.88, -0.12, 0.15, 0.04], [-1....   welcome\n",
              "181  [[5.45, -8.14, 2.96, -0.32, 1.73, 0.31], [5.38...     hello\n",
              "75   [[3.11, -1.87, -10.13, -0.33, 0.44, 0.34], [1....  thankyou\n",
              "248  [[-1.99, -8.12, 4.31, -0.05, -0.03, -0.02], [-...   welcome\n",
              "211  [[4.46, -7.74, 3.57, 0.04, 0.05, -0.11], [2.94...     hello\n",
              "40   [[4.04, -1.01, -9.56, -0.27, 0.97, -0.25], [3....  thankyou\n",
              "135  [[3.99, -8.43, 1.38, -0.19, 0.07, 0.03], [5.31...     hello\n",
              "150  [[6.79, -7.54, 1.38, 0.54, 1.52, -0.52], [5.98...     hello\n",
              "180  [[-2.55, -7.09, 5.37, -0.03, 0.12, -0.06], [-2...   welcome\n",
              "148  [[6.92, -1.08, -8.13, 0.03, -0.11, -0.2], [5.2...  thankyou"
            ],
            "text/html": [
              "\n",
              "  <div id=\"df-857c2131-d146-46ef-92b9-2d62d4388a72\">\n",
              "    <div class=\"colab-df-container\">\n",
              "      <div>\n",
              "<style scoped>\n",
              "    .dataframe tbody tr th:only-of-type {\n",
              "        vertical-align: middle;\n",
              "    }\n",
              "\n",
              "    .dataframe tbody tr th {\n",
              "        vertical-align: top;\n",
              "    }\n",
              "\n",
              "    .dataframe thead th {\n",
              "        text-align: right;\n",
              "    }\n",
              "</style>\n",
              "<table border=\"1\" class=\"dataframe\">\n",
              "  <thead>\n",
              "    <tr style=\"text-align: right;\">\n",
              "      <th></th>\n",
              "      <th>sequence</th>\n",
              "      <th>label</th>\n",
              "    </tr>\n",
              "  </thead>\n",
              "  <tbody>\n",
              "    <tr>\n",
              "      <th>246</th>\n",
              "      <td>[[-2.74, -8.42, 3.17, -0.03, -0.08, -0.04], [-...</td>\n",
              "      <td>welcome</td>\n",
              "    </tr>\n",
              "    <tr>\n",
              "      <th>115</th>\n",
              "      <td>[[11.43, 0.63, 0.58, -0.11, 1.53, -0.11], [8.8...</td>\n",
              "      <td>please</td>\n",
              "    </tr>\n",
              "    <tr>\n",
              "      <th>164</th>\n",
              "      <td>[[9.17, -1.03, 1.64, 0.07, -0.01, -0.03], [10....</td>\n",
              "      <td>please</td>\n",
              "    </tr>\n",
              "    <tr>\n",
              "      <th>205</th>\n",
              "      <td>[[3.03, -8.45, 3.91, 0.23, -0.26, 0.13], [6.1,...</td>\n",
              "      <td>hello</td>\n",
              "    </tr>\n",
              "    <tr>\n",
              "      <th>202</th>\n",
              "      <td>[[-1.37, -8.25, 4.36, 0.37, -0.28, -0.04], [-1...</td>\n",
              "      <td>welcome</td>\n",
              "    </tr>\n",
              "    <tr>\n",
              "      <th>233</th>\n",
              "      <td>[[5.35, -7.36, 4.27, 0.17, 0.18, 0.05], [5.47,...</td>\n",
              "      <td>hello</td>\n",
              "    </tr>\n",
              "    <tr>\n",
              "      <th>119</th>\n",
              "      <td>[[-1.11, -7.54, 5.69, -0.11, 0.09, -0.01], [-1...</td>\n",
              "      <td>welcome</td>\n",
              "    </tr>\n",
              "    <tr>\n",
              "      <th>96</th>\n",
              "      <td>[[4.36, -0.35, -9.28, -0.09, 0.05, -0.06], [3....</td>\n",
              "      <td>thankyou</td>\n",
              "    </tr>\n",
              "    <tr>\n",
              "      <th>222</th>\n",
              "      <td>[[-2.36, -8.25, 4.25, -0.18, 0.7, 0.05], [-2.2...</td>\n",
              "      <td>welcome</td>\n",
              "    </tr>\n",
              "    <tr>\n",
              "      <th>72</th>\n",
              "      <td>[[4.57, -1.52, -9.98, -0.67, 0.02, -0.28], [6....</td>\n",
              "      <td>thankyou</td>\n",
              "    </tr>\n",
              "    <tr>\n",
              "      <th>37</th>\n",
              "      <td>[[7.93, -1.39, 0.96, 0.78, 0.06, 0.21], [12.7,...</td>\n",
              "      <td>please</td>\n",
              "    </tr>\n",
              "    <tr>\n",
              "      <th>178</th>\n",
              "      <td>[[12.47, 1.07, -0.05, 0.27, 0.28, -0.35], [8.8...</td>\n",
              "      <td>please</td>\n",
              "    </tr>\n",
              "    <tr>\n",
              "      <th>155</th>\n",
              "      <td>[[0.0, -52.61, 16.55, -1.3, -3.27, 0.0], [0.0,...</td>\n",
              "      <td>please</td>\n",
              "    </tr>\n",
              "    <tr>\n",
              "      <th>117</th>\n",
              "      <td>[[10.34, -2.04, 1.18, 0.22, -0.05, 0.34], [13....</td>\n",
              "      <td>please</td>\n",
              "    </tr>\n",
              "    <tr>\n",
              "      <th>145</th>\n",
              "      <td>[[9.7, -2.77, 1.2, 0.11, 0.11, 0.02], [9.83, -...</td>\n",
              "      <td>please</td>\n",
              "    </tr>\n",
              "    <tr>\n",
              "      <th>210</th>\n",
              "      <td>[[-2.78, -6.96, 4.99, -0.19, -0.01, 0.06], [-2...</td>\n",
              "      <td>welcome</td>\n",
              "    </tr>\n",
              "    <tr>\n",
              "      <th>239</th>\n",
              "      <td>[[-1.46, -7.81, 5.3, -0.12, 0.11, -0.01], [-4....</td>\n",
              "      <td>welcome</td>\n",
              "    </tr>\n",
              "    <tr>\n",
              "      <th>218</th>\n",
              "      <td>[[1.36, 1.09, -10.52, -0.11, 0.88, -0.04], [0....</td>\n",
              "      <td>thankyou</td>\n",
              "    </tr>\n",
              "    <tr>\n",
              "      <th>62</th>\n",
              "      <td>[[2.25, 0.02, -9.96, -0.56, -0.14, 0.02], [3.7...</td>\n",
              "      <td>thankyou</td>\n",
              "    </tr>\n",
              "    <tr>\n",
              "      <th>1</th>\n",
              "      <td>[[2.25, -8.81, 1.78, 0.38, -1.59, -0.84], [5.3...</td>\n",
              "      <td>hello</td>\n",
              "    </tr>\n",
              "    <tr>\n",
              "      <th>82</th>\n",
              "      <td>[[3.91, -8.46, 3.55, 0.57, 0.58, -0.06], [5.26...</td>\n",
              "      <td>hello</td>\n",
              "    </tr>\n",
              "    <tr>\n",
              "      <th>186</th>\n",
              "      <td>[[-0.69, -8.36, 3.66, 0.04, 0.16, 0.03], [-1.1...</td>\n",
              "      <td>welcome</td>\n",
              "    </tr>\n",
              "    <tr>\n",
              "      <th>158</th>\n",
              "      <td>[[-0.46, -7.6, 5.44, 0.01, 0.23, -0.06], [-1.6...</td>\n",
              "      <td>welcome</td>\n",
              "    </tr>\n",
              "    <tr>\n",
              "      <th>20</th>\n",
              "      <td>[[2.94, -8.12, 3.78, 0.22, -0.56, -0.02], [2.6...</td>\n",
              "      <td>hello</td>\n",
              "    </tr>\n",
              "    <tr>\n",
              "      <th>237</th>\n",
              "      <td>[[3.98, -7.88, 3.08, 0.07, 0.36, -0.03], [3.46...</td>\n",
              "      <td>hello</td>\n",
              "    </tr>\n",
              "    <tr>\n",
              "      <th>235</th>\n",
              "      <td>[[9.49, -3.36, -1.13, 0.25, -0.38, -0.11], [9....</td>\n",
              "      <td>please</td>\n",
              "    </tr>\n",
              "    <tr>\n",
              "      <th>163</th>\n",
              "      <td>[[-3.49, -7.13, 4.46, 0.02, -0.02, -0.03], [-3...</td>\n",
              "      <td>welcome</td>\n",
              "    </tr>\n",
              "    <tr>\n",
              "      <th>129</th>\n",
              "      <td>[[9.17, -3.64, 2.68, -0.15, -0.2, 0.02], [9.2,...</td>\n",
              "      <td>please</td>\n",
              "    </tr>\n",
              "    <tr>\n",
              "      <th>176</th>\n",
              "      <td>[[2.26, -8.03, 3.71, 0.74, 0.32, -0.04], [3.79...</td>\n",
              "      <td>hello</td>\n",
              "    </tr>\n",
              "    <tr>\n",
              "      <th>105</th>\n",
              "      <td>[[3.43, -8.19, 2.41, 0.29, -0.96, 0.01], [6.45...</td>\n",
              "      <td>hello</td>\n",
              "    </tr>\n",
              "    <tr>\n",
              "      <th>13</th>\n",
              "      <td>[[5.29, -0.97, -9.02, 0.04, 0.11, -0.06], [5.7...</td>\n",
              "      <td>thankyou</td>\n",
              "    </tr>\n",
              "    <tr>\n",
              "      <th>189</th>\n",
              "      <td>[[8.78, -7.64, 4.44, 0.54, 0.49, -0.8], [5.66,...</td>\n",
              "      <td>hello</td>\n",
              "    </tr>\n",
              "    <tr>\n",
              "      <th>132</th>\n",
              "      <td>[[9.91, -0.81, 1.09, -0.15, 0.25, 0.01], [10.0...</td>\n",
              "      <td>please</td>\n",
              "    </tr>\n",
              "    <tr>\n",
              "      <th>31</th>\n",
              "      <td>[[5.0, -8.39, 3.27, -0.4, 0.56, -0.18], [4.15,...</td>\n",
              "      <td>hello</td>\n",
              "    </tr>\n",
              "    <tr>\n",
              "      <th>16</th>\n",
              "      <td>[[2.55, -1.5, -10.12, -0.73, -0.9, -0.17], [6....</td>\n",
              "      <td>thankyou</td>\n",
              "    </tr>\n",
              "    <tr>\n",
              "      <th>121</th>\n",
              "      <td>[[-1.13, -7.43, 5.84, 0.02, 0.48, 0.03], [-1.2...</td>\n",
              "      <td>welcome</td>\n",
              "    </tr>\n",
              "    <tr>\n",
              "      <th>221</th>\n",
              "      <td>[[11.19, -0.14, -0.57, -0.03, 1.02, 1.8], [10....</td>\n",
              "      <td>please</td>\n",
              "    </tr>\n",
              "    <tr>\n",
              "      <th>195</th>\n",
              "      <td>[[9.95, -1.96, 2.04, -0.28, 0.23, 0.08], [8.89...</td>\n",
              "      <td>please</td>\n",
              "    </tr>\n",
              "    <tr>\n",
              "      <th>64</th>\n",
              "      <td>[[1.77, -8.62, 3.79, 0.05, 0.33, 0.23], [2.49,...</td>\n",
              "      <td>hello</td>\n",
              "    </tr>\n",
              "    <tr>\n",
              "      <th>34</th>\n",
              "      <td>[[3.79, -2.04, -10.65, 0.33, 1.28, -0.17], [3....</td>\n",
              "      <td>thankyou</td>\n",
              "    </tr>\n",
              "    <tr>\n",
              "      <th>87</th>\n",
              "      <td>[[9.72, -1.8, 2.25, -0.21, 0.44, -0.18], [9.38...</td>\n",
              "      <td>please</td>\n",
              "    </tr>\n",
              "    <tr>\n",
              "      <th>65</th>\n",
              "      <td>[[3.21, -7.67, 4.93, 0.02, 0.0, -0.03], [2.43,...</td>\n",
              "      <td>hello</td>\n",
              "    </tr>\n",
              "    <tr>\n",
              "      <th>199</th>\n",
              "      <td>[[-3.03, -7.89, 3.88, -0.12, 0.15, 0.04], [-1....</td>\n",
              "      <td>welcome</td>\n",
              "    </tr>\n",
              "    <tr>\n",
              "      <th>181</th>\n",
              "      <td>[[5.45, -8.14, 2.96, -0.32, 1.73, 0.31], [5.38...</td>\n",
              "      <td>hello</td>\n",
              "    </tr>\n",
              "    <tr>\n",
              "      <th>75</th>\n",
              "      <td>[[3.11, -1.87, -10.13, -0.33, 0.44, 0.34], [1....</td>\n",
              "      <td>thankyou</td>\n",
              "    </tr>\n",
              "    <tr>\n",
              "      <th>248</th>\n",
              "      <td>[[-1.99, -8.12, 4.31, -0.05, -0.03, -0.02], [-...</td>\n",
              "      <td>welcome</td>\n",
              "    </tr>\n",
              "    <tr>\n",
              "      <th>211</th>\n",
              "      <td>[[4.46, -7.74, 3.57, 0.04, 0.05, -0.11], [2.94...</td>\n",
              "      <td>hello</td>\n",
              "    </tr>\n",
              "    <tr>\n",
              "      <th>40</th>\n",
              "      <td>[[4.04, -1.01, -9.56, -0.27, 0.97, -0.25], [3....</td>\n",
              "      <td>thankyou</td>\n",
              "    </tr>\n",
              "    <tr>\n",
              "      <th>135</th>\n",
              "      <td>[[3.99, -8.43, 1.38, -0.19, 0.07, 0.03], [5.31...</td>\n",
              "      <td>hello</td>\n",
              "    </tr>\n",
              "    <tr>\n",
              "      <th>150</th>\n",
              "      <td>[[6.79, -7.54, 1.38, 0.54, 1.52, -0.52], [5.98...</td>\n",
              "      <td>hello</td>\n",
              "    </tr>\n",
              "    <tr>\n",
              "      <th>180</th>\n",
              "      <td>[[-2.55, -7.09, 5.37, -0.03, 0.12, -0.06], [-2...</td>\n",
              "      <td>welcome</td>\n",
              "    </tr>\n",
              "    <tr>\n",
              "      <th>148</th>\n",
              "      <td>[[6.92, -1.08, -8.13, 0.03, -0.11, -0.2], [5.2...</td>\n",
              "      <td>thankyou</td>\n",
              "    </tr>\n",
              "  </tbody>\n",
              "</table>\n",
              "</div>\n",
              "      <button class=\"colab-df-convert\" onclick=\"convertToInteractive('df-857c2131-d146-46ef-92b9-2d62d4388a72')\"\n",
              "              title=\"Convert this dataframe to an interactive table.\"\n",
              "              style=\"display:none;\">\n",
              "        \n",
              "  <svg xmlns=\"http://www.w3.org/2000/svg\" height=\"24px\"viewBox=\"0 0 24 24\"\n",
              "       width=\"24px\">\n",
              "    <path d=\"M0 0h24v24H0V0z\" fill=\"none\"/>\n",
              "    <path d=\"M18.56 5.44l.94 2.06.94-2.06 2.06-.94-2.06-.94-.94-2.06-.94 2.06-2.06.94zm-11 1L8.5 8.5l.94-2.06 2.06-.94-2.06-.94L8.5 2.5l-.94 2.06-2.06.94zm10 10l.94 2.06.94-2.06 2.06-.94-2.06-.94-.94-2.06-.94 2.06-2.06.94z\"/><path d=\"M17.41 7.96l-1.37-1.37c-.4-.4-.92-.59-1.43-.59-.52 0-1.04.2-1.43.59L10.3 9.45l-7.72 7.72c-.78.78-.78 2.05 0 2.83L4 21.41c.39.39.9.59 1.41.59.51 0 1.02-.2 1.41-.59l7.78-7.78 2.81-2.81c.8-.78.8-2.07 0-2.86zM5.41 20L4 18.59l7.72-7.72 1.47 1.35L5.41 20z\"/>\n",
              "  </svg>\n",
              "      </button>\n",
              "      \n",
              "  <style>\n",
              "    .colab-df-container {\n",
              "      display:flex;\n",
              "      flex-wrap:wrap;\n",
              "      gap: 12px;\n",
              "    }\n",
              "\n",
              "    .colab-df-convert {\n",
              "      background-color: #E8F0FE;\n",
              "      border: none;\n",
              "      border-radius: 50%;\n",
              "      cursor: pointer;\n",
              "      display: none;\n",
              "      fill: #1967D2;\n",
              "      height: 32px;\n",
              "      padding: 0 0 0 0;\n",
              "      width: 32px;\n",
              "    }\n",
              "\n",
              "    .colab-df-convert:hover {\n",
              "      background-color: #E2EBFA;\n",
              "      box-shadow: 0px 1px 2px rgba(60, 64, 67, 0.3), 0px 1px 3px 1px rgba(60, 64, 67, 0.15);\n",
              "      fill: #174EA6;\n",
              "    }\n",
              "\n",
              "    [theme=dark] .colab-df-convert {\n",
              "      background-color: #3B4455;\n",
              "      fill: #D2E3FC;\n",
              "    }\n",
              "\n",
              "    [theme=dark] .colab-df-convert:hover {\n",
              "      background-color: #434B5C;\n",
              "      box-shadow: 0px 1px 3px 1px rgba(0, 0, 0, 0.15);\n",
              "      filter: drop-shadow(0px 1px 2px rgba(0, 0, 0, 0.3));\n",
              "      fill: #FFFFFF;\n",
              "    }\n",
              "  </style>\n",
              "\n",
              "      <script>\n",
              "        const buttonEl =\n",
              "          document.querySelector('#df-857c2131-d146-46ef-92b9-2d62d4388a72 button.colab-df-convert');\n",
              "        buttonEl.style.display =\n",
              "          google.colab.kernel.accessAllowed ? 'block' : 'none';\n",
              "\n",
              "        async function convertToInteractive(key) {\n",
              "          const element = document.querySelector('#df-857c2131-d146-46ef-92b9-2d62d4388a72');\n",
              "          const dataTable =\n",
              "            await google.colab.kernel.invokeFunction('convertToInteractive',\n",
              "                                                     [key], {});\n",
              "          if (!dataTable) return;\n",
              "\n",
              "          const docLinkHtml = 'Like what you see? Visit the ' +\n",
              "            '<a target=\"_blank\" href=https://colab.research.google.com/notebooks/data_table.ipynb>data table notebook</a>'\n",
              "            + ' to learn more about interactive tables.';\n",
              "          element.innerHTML = '';\n",
              "          dataTable['output_type'] = 'display_data';\n",
              "          await google.colab.output.renderOutput(dataTable, element);\n",
              "          const docLink = document.createElement('div');\n",
              "          docLink.innerHTML = docLinkHtml;\n",
              "          element.appendChild(docLink);\n",
              "        }\n",
              "      </script>\n",
              "    </div>\n",
              "  </div>\n",
              "  "
            ]
          },
          "metadata": {},
          "execution_count": 90
        }
      ]
    },
    {
      "cell_type": "code",
      "source": [
        "train.label.value_counts(normalize=True).plot.pie()\n",
        "plt.show()"
      ],
      "metadata": {
        "id": "RPiMrtYpY1u3",
        "outputId": "4f42a6aa-a6b3-4e75-aeff-27fed1b4633b",
        "colab": {
          "base_uri": "https://localhost:8080/",
          "height": 406
        }
      },
      "execution_count": 91,
      "outputs": [
        {
          "output_type": "display_data",
          "data": {
            "text/plain": [
              "<Figure size 640x480 with 1 Axes>"
            ],
            "image/png": "[encoded data removed]"
          },
          "metadata": {}
        }
      ]
    },
    {
      "cell_type": "code",
      "source": [
        "test.label.value_counts(normalize=True).plot.pie()\n",
        "plt.show()"
      ],
      "metadata": {
        "id": "_YxQsU2gYT97",
        "outputId": "a990f012-4958-4fd6-b261-d6a896a9a048",
        "colab": {
          "base_uri": "https://localhost:8080/",
          "height": 406
        }
      },
      "execution_count": 92,
      "outputs": [
        {
          "output_type": "display_data",
          "data": {
            "text/plain": [
              "<Figure size 640x480 with 1 Axes>"
            ],
            "image/png": "[encoded data removed]"
          },
          "metadata": {}
        }
      ]
    },
    {
      "cell_type": "markdown",
      "source": [
        "#Model"
      ],
      "metadata": {
        "id": "4lkgLdRxTnL3"
      }
    },
    {
      "cell_type": "code",
      "source": [
        "#first lets make a copy for our data ( just for security)\n",
        "df=train.copy()\n",
        "df_test=test.copy()"
      ],
      "metadata": {
        "id": "_NmHG5yQULsu"
      },
      "execution_count": 93,
      "outputs": []
    },
    {
      "cell_type": "code",
      "source": [
        "print(len(df))"
      ],
      "metadata": {
        "colab": {
          "base_uri": "https://localhost:8080/"
        },
        "id": "_gabl-ZPXrAW",
        "outputId": "ea142eaa-a591-4221-d74e-b994350f1570"
      },
      "execution_count": 94,
      "outputs": [
        {
          "output_type": "stream",
          "name": "stdout",
          "text": [
            "204\n"
          ]
        }
      ]
    },
    {
      "cell_type": "code",
      "source": [
        "# Splitting the DataFrame into features (X) and target (y)\n",
        "X = np.stack(df['sequence'].values)\n",
        "y = df['label'].values\n",
        "x_test=np.stack(df_test['sequence'].values)\n",
        "y_test = df_test['label'].values"
      ],
      "metadata": {
        "id": "e7izZo1mTuMW"
      },
      "execution_count": 95,
      "outputs": []
    },
    {
      "cell_type": "code",
      "source": [
        "df.iloc[5][1]"
      ],
      "metadata": {
        "id": "nEOjt-9baB9D",
        "outputId": "26cd8e74-02e5-452f-9b9c-c765271780c3",
        "colab": {
          "base_uri": "https://localhost:8080/",
          "height": 36
        }
      },
      "execution_count": 96,
      "outputs": [
        {
          "output_type": "execute_result",
          "data": {
            "text/plain": [
              "'welcome'"
            ],
            "application/vnd.google.colaboratory.intrinsic+json": {
              "type": "string"
            }
          },
          "metadata": {},
          "execution_count": 96
        }
      ]
    },
    {
      "cell_type": "code",
      "source": [
        "y[5]"
      ],
      "metadata": {
        "id": "svyKxlgTZ7He",
        "outputId": "7e6b57b7-4b13-498d-cce9-1588ceb2f701",
        "colab": {
          "base_uri": "https://localhost:8080/",
          "height": 36
        }
      },
      "execution_count": 97,
      "outputs": [
        {
          "output_type": "execute_result",
          "data": {
            "text/plain": [
              "'welcome'"
            ],
            "application/vnd.google.colaboratory.intrinsic+json": {
              "type": "string"
            }
          },
          "metadata": {},
          "execution_count": 97
        }
      ]
    },
    {
      "cell_type": "code",
      "source": [
        "y"
      ],
      "metadata": {
        "id": "FJfonSwA8__U"
      },
      "execution_count": null,
      "outputs": []
    },
    {
      "cell_type": "code",
      "source": [
        "print(y)"
      ],
      "metadata": {
        "id": "BjQEd1p0dKA4"
      },
      "execution_count": null,
      "outputs": []
    },
    {
      "cell_type": "code",
      "source": [
        "len(y)"
      ],
      "metadata": {
        "colab": {
          "base_uri": "https://localhost:8080/"
        },
        "id": "BtinvR8g6X_d",
        "outputId": "08a10b8c-a495-4987-a77c-7f1185811631"
      },
      "execution_count": 100,
      "outputs": [
        {
          "output_type": "execute_result",
          "data": {
            "text/plain": [
              "204"
            ]
          },
          "metadata": {},
          "execution_count": 100
        }
      ]
    },
    {
      "cell_type": "code",
      "source": [
        "from sklearn.preprocessing import LabelEncoder\n",
        "from keras.utils import to_categorical\n",
        "# Encoding the target variables\n",
        "le = LabelEncoder()\n",
        "y = le.fit_transform(y)\n",
        "y = to_categorical(y)\n",
        "y_test= le.fit_transform(y_test)\n",
        "y_test = to_categorical(y_test)"
      ],
      "metadata": {
        "id": "aTyd2LdNc-RQ"
      },
      "execution_count": 101,
      "outputs": []
    },
    {
      "cell_type": "code",
      "source": [
        "# Define the LSTM model\n",
        "model = Sequential()\n",
        "model.add(LSTM(100, activation='relu', input_shape=(X.shape[1], X.shape[2])))\n",
        "model.add(Dense(4, activation='softmax'))\n"
      ],
      "metadata": {
        "id": "IhHMHEADdB6_"
      },
      "execution_count": 102,
      "outputs": []
    },
    {
      "cell_type": "code",
      "source": [
        "# Compile the model\n",
        "model.compile(optimizer='adam', loss='categorical_crossentropy', metrics=['accuracy'])"
      ],
      "metadata": {
        "id": "V2LDl3mVdER8"
      },
      "execution_count": 103,
      "outputs": []
    },
    {
      "cell_type": "code",
      "source": [
        "# Fit the model\n",
        "model.fit(X,y, epochs=200, verbose=0)"
      ],
      "metadata": {
        "colab": {
          "base_uri": "https://localhost:8080/"
        },
        "id": "tRcCZALadGVr",
        "outputId": "e60eb7ea-92c4-4b30-b822-c311dfb31cdf"
      },
      "execution_count": 104,
      "outputs": [
        {
          "output_type": "execute_result",
          "data": {
            "text/plain": [
              "<keras.callbacks.History at 0x7eff2bd84580>"
            ]
          },
          "metadata": {},
          "execution_count": 104
        }
      ]
    },
    {
      "cell_type": "markdown",
      "source": [
        "#Results "
      ],
      "metadata": {
        "id": "EmSy8uNUbT3S"
      }
    },
    {
      "cell_type": "code",
      "source": [
        "yhat_test=model.predict(x_test)"
      ],
      "metadata": {
        "id": "efnPjhhfde2d",
        "outputId": "17f94fb6-1e66-4d8b-e2d2-6364898dcf99",
        "colab": {
          "base_uri": "https://localhost:8080/"
        }
      },
      "execution_count": 109,
      "outputs": [
        {
          "output_type": "stream",
          "name": "stdout",
          "text": [
            "2/2 [==============================] - 0s 8ms/step\n"
          ]
        }
      ]
    },
    {
      "cell_type": "code",
      "source": [
        "list_of_cat=['hello','please','thankyou','welcome']"
      ],
      "metadata": {
        "id": "ZAYYkNELZvEY"
      },
      "execution_count": 133,
      "outputs": []
    },
    {
      "cell_type": "code",
      "source": [],
      "metadata": {
        "id": "x0X5rbFhDXnn"
      },
      "execution_count": null,
      "outputs": []
    },
    {
      "cell_type": "code",
      "source": [
        "df_test['label'][:10]"
      ],
      "metadata": {
        "id": "GaxkowyYbAMI",
        "outputId": "e1d079b0-8579-47b6-9b72-17fda7fbc80a",
        "colab": {
          "base_uri": "https://localhost:8080/"
        }
      },
      "execution_count": 111,
      "outputs": [
        {
          "output_type": "execute_result",
          "data": {
            "text/plain": [
              "246     welcome\n",
              "115      please\n",
              "164      please\n",
              "205       hello\n",
              "202     welcome\n",
              "233       hello\n",
              "119     welcome\n",
              "96     thankyou\n",
              "222     welcome\n",
              "72     thankyou\n",
              "Name: label, dtype: object"
            ]
          },
          "metadata": {},
          "execution_count": 111
        }
      ]
    },
    {
      "cell_type": "code",
      "source": [
        "predicted_labels=[]\n",
        "actual_labels=list(df_test['label'].values)\n",
        "accuracy=0\n",
        "for i in np.argmax(yhat_test,axis=1):\n",
        "  predicted_labels.append(list_of_cat[i])\n",
        "  print(list_of_cat[i])"
      ],
      "metadata": {
        "id": "KuLaR_4oaor8"
      },
      "execution_count": null,
      "outputs": []
    },
    {
      "cell_type": "code",
      "source": [
        "#Accuracy!\n",
        "for i in range(len(predicted_labels)):\n",
        "  if (predicted_labels[i]==actual_labels[i]):\n",
        "    accuracy+=1\n",
        "  else:\n",
        "    print(predicted_labels[i],actual_labels[i])\n",
        "accuracy=accuracy/len(predicted_labels)"
      ],
      "metadata": {
        "colab": {
          "base_uri": "https://localhost:8080/"
        },
        "id": "eBEGQAF4CgY0",
        "outputId": "c4b58127-594c-4fb4-e869-cd1480ec39eb"
      },
      "execution_count": 135,
      "outputs": [
        {
          "output_type": "stream",
          "name": "stdout",
          "text": [
            "hello please\n"
          ]
        }
      ]
    },
    {
      "cell_type": "code",
      "source": [
        "accuracy"
      ],
      "metadata": {
        "colab": {
          "base_uri": "https://localhost:8080/"
        },
        "id": "Ss-SY2Y8C4Lm",
        "outputId": "24d5e68a-6ae9-4b76-e6b4-73a97cc91d46"
      },
      "execution_count": 136,
      "outputs": [
        {
          "output_type": "execute_result",
          "data": {
            "text/plain": [
              "0.9807692307692307"
            ]
          },
          "metadata": {},
          "execution_count": 136
        }
      ]
    }
  ]
}